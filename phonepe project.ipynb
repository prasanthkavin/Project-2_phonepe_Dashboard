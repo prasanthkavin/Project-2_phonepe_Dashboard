{
  "nbformat": 4,
  "nbformat_minor": 0,
  "metadata": {
    "colab": {
      "provenance": [],
      "authorship_tag": "ABX9TyN5r6FVu92/nwIVKXLL/+Fi",
      "include_colab_link": true
    },
    "kernelspec": {
      "name": "python3",
      "display_name": "Python 3"
    },
    "language_info": {
      "name": "python"
    }
  },
  "cells": [
    {
      "cell_type": "markdown",
      "metadata": {
        "id": "view-in-github",
        "colab_type": "text"
      },
      "source": [
        "<a href=\"https://colab.research.google.com/github/prasanthkavin/Project-2_phonepe_Dashboard/blob/main/phonepe%20project.ipynb\" target=\"_parent\"><img src=\"https://colab.research.google.com/assets/colab-badge.svg\" alt=\"Open In Colab\"/></a>"
      ]
    },
    {
      "cell_type": "code",
      "execution_count": 6,
      "metadata": {
        "colab": {
          "base_uri": "https://localhost:8080/"
        },
        "id": "gjJr4gMVVKgC",
        "outputId": "165758f3-51fe-4f99-b3cb-4c5a69c5fe72"
      },
      "outputs": [
        {
          "output_type": "stream",
          "name": "stdout",
          "text": [
            "fatal: destination path 'pulse' already exists and is not an empty directory.\n"
          ]
        }
      ],
      "source": [
        "!git clone https://github.com/PhonePe/pulse.git"
      ]
    },
    {
      "cell_type": "code",
      "source": [],
      "metadata": {
        "id": "S7I8TnLovAPN"
      },
      "execution_count": 6,
      "outputs": []
    },
    {
      "cell_type": "code",
      "source": [
        "import pandas as pd\n",
        "import os\n",
        "import streamlit as st\n"
      ],
      "metadata": {
        "id": "SLiRKZAgVSl3"
      },
      "execution_count": 7,
      "outputs": []
    },
    {
      "cell_type": "code",
      "source": [
        "path=\"/content/pulse/data/aggregated/transaction/country/india/state/\"\n",
        "state_list=os.listdir(path)\n",
        "state_list"
      ],
      "metadata": {
        "colab": {
          "base_uri": "https://localhost:8080/"
        },
        "id": "8iSIEzOLVwIE",
        "outputId": "ba3c97a1-c0ce-453f-beef-425bd5cc310a"
      },
      "execution_count": 14,
      "outputs": [
        {
          "output_type": "execute_result",
          "data": {
            "text/plain": [
              "['mizoram',\n",
              " 'lakshadweep',\n",
              " 'meghalaya',\n",
              " 'chhattisgarh',\n",
              " 'karnataka',\n",
              " 'odisha',\n",
              " 'kerala',\n",
              " 'goa',\n",
              " 'uttarakhand',\n",
              " 'punjab',\n",
              " 'andhra-pradesh',\n",
              " 'tamil-nadu',\n",
              " 'arunachal-pradesh',\n",
              " 'chandigarh',\n",
              " 'madhya-pradesh',\n",
              " 'west-bengal',\n",
              " 'assam',\n",
              " 'uttar-pradesh',\n",
              " 'gujarat',\n",
              " 'manipur',\n",
              " 'tripura',\n",
              " 'puducherry',\n",
              " 'bihar',\n",
              " 'jammu-&-kashmir',\n",
              " 'nagaland',\n",
              " 'rajasthan',\n",
              " 'delhi',\n",
              " 'maharashtra',\n",
              " 'telangana',\n",
              " 'andaman-&-nicobar-islands',\n",
              " 'himachal-pradesh',\n",
              " 'jharkhand',\n",
              " 'haryana',\n",
              " 'ladakh',\n",
              " 'sikkim',\n",
              " 'dadra-&-nagar-haveli-&-daman-&-diu']"
            ]
          },
          "metadata": {},
          "execution_count": 14
        }
      ]
    },
    {
      "cell_type": "code",
      "source": [
        "path=\"/content/pulse/data/top/transaction/country/india/\"\n",
        "Agg_pin=os.listdir(path)\n",
        "Agg_pin"
      ],
      "metadata": {
        "colab": {
          "base_uri": "https://localhost:8080/"
        },
        "id": "wOTRQc1LyuSJ",
        "outputId": "52a6d014-246f-4f71-bbbb-6b96f6ec3305"
      },
      "execution_count": 9,
      "outputs": [
        {
          "output_type": "execute_result",
          "data": {
            "text/plain": [
              "['2022', '2019', 'state', '2018', '2020', '2021']"
            ]
          },
          "metadata": {},
          "execution_count": 9
        }
      ]
    },
    {
      "cell_type": "code",
      "source": [
        "path=\"/content/pulse/data/top/transaction/country/india/\"\n",
        "Agg_dist=os.listdir(path)\n",
        "Agg_dist"
      ],
      "metadata": {
        "colab": {
          "base_uri": "https://localhost:8080/"
        },
        "id": "anIp0Wxwztf7",
        "outputId": "f50d96a1-da84-4cac-ecd5-97fe25d7ffdf"
      },
      "execution_count": 11,
      "outputs": [
        {
          "output_type": "execute_result",
          "data": {
            "text/plain": [
              "['2022', '2019', 'state', '2018', '2020', '2021']"
            ]
          },
          "metadata": {},
          "execution_count": 11
        }
      ]
    },
    {
      "cell_type": "code",
      "source": [
        "phonepe={\"state\":[],\"year\":[],\"quater\":[],\"transction type\":[],\"transaction amount\":[],\"transaction count\":[],\"district\":[],\"pincode\":[]}\n",
        "for i in state_list:\n",
        "  p_i=path+i+'/'\n",
        "  Agg_dist=os.listdir(p_i)\n",
        "  for j in Agg_dist:\n",
        "    p_j=p_i+j+'/'\n",
        "    Agg_pin=os.listdir(p_j)\n",
        "    for k in Agg_pin:\n",
        "      p_k=p_j+k+'/'\n",
        "      Agg_year=os.listdir(p_k)\n",
        "      for l in Agg_year:\n",
        "        p_l=p_k+l+'/'\n",
        "        Agg_year_list=os.listdir(p_l)\n",
        "        for m in Agg_year_list:\n",
        "          p_m=p_l+m\n",
        "          Data=open(p_m,'r')\n",
        "          D=json.load(Data)\n",
        "          for z in D['data']['transactionData']:\n",
        "              Name=z['name']\n",
        "              count=z['paymentInstruments'][0]['count']\n",
        "              amount=z['paymentInstruments'][0]['amount']\n",
        "              phonepe['Transacion_type'].append(Name)\n",
        "              phonepe['Transacion_count'].append(count)\n",
        "              phonepe['Transacion_amount'].append(amount)\n",
        "              phonepe['state'].append(i)\n",
        "              phonepe['district'].append(j)\n",
        "              phonepe['pincode'].append(k)\n",
        "              phonepe['year'].append(l)\n",
        "              phonepe['quater'].append(int(m.strip('.json')))\n",
        "pd.DataFrame(phonepe)\n"
      ],
      "metadata": {
        "colab": {
          "base_uri": "https://localhost:8080/",
          "height": 235
        },
        "id": "CiJlFZCEcIf3",
        "outputId": "e23062db-17f0-4968-e691-940ce5796e36"
      },
      "execution_count": 15,
      "outputs": [
        {
          "output_type": "error",
          "ename": "NotADirectoryError",
          "evalue": "ignored",
          "traceback": [
            "\u001b[0;31m---------------------------------------------------------------------------\u001b[0m",
            "\u001b[0;31mNotADirectoryError\u001b[0m                        Traceback (most recent call last)",
            "\u001b[0;32m<ipython-input-15-0f51b3bb0157>\u001b[0m in \u001b[0;36m<module>\u001b[0;34m\u001b[0m\n\u001b[1;32m      8\u001b[0m     \u001b[0;32mfor\u001b[0m \u001b[0mk\u001b[0m \u001b[0;32min\u001b[0m \u001b[0mAgg_pin\u001b[0m\u001b[0;34m:\u001b[0m\u001b[0;34m\u001b[0m\u001b[0;34m\u001b[0m\u001b[0m\n\u001b[1;32m      9\u001b[0m       \u001b[0mp_k\u001b[0m\u001b[0;34m=\u001b[0m\u001b[0mp_j\u001b[0m\u001b[0;34m+\u001b[0m\u001b[0mk\u001b[0m\u001b[0;34m+\u001b[0m\u001b[0;34m'/'\u001b[0m\u001b[0;34m\u001b[0m\u001b[0;34m\u001b[0m\u001b[0m\n\u001b[0;32m---> 10\u001b[0;31m       \u001b[0mAgg_year\u001b[0m\u001b[0;34m=\u001b[0m\u001b[0mos\u001b[0m\u001b[0;34m.\u001b[0m\u001b[0mlistdir\u001b[0m\u001b[0;34m(\u001b[0m\u001b[0mp_k\u001b[0m\u001b[0;34m)\u001b[0m\u001b[0;34m\u001b[0m\u001b[0;34m\u001b[0m\u001b[0m\n\u001b[0m\u001b[1;32m     11\u001b[0m       \u001b[0;32mfor\u001b[0m \u001b[0ml\u001b[0m \u001b[0;32min\u001b[0m \u001b[0mAgg_year\u001b[0m\u001b[0;34m:\u001b[0m\u001b[0;34m\u001b[0m\u001b[0;34m\u001b[0m\u001b[0m\n\u001b[1;32m     12\u001b[0m         \u001b[0mp_l\u001b[0m\u001b[0;34m=\u001b[0m\u001b[0mp_k\u001b[0m\u001b[0;34m+\u001b[0m\u001b[0ml\u001b[0m\u001b[0;34m+\u001b[0m\u001b[0;34m'/'\u001b[0m\u001b[0;34m\u001b[0m\u001b[0;34m\u001b[0m\u001b[0m\n",
            "\u001b[0;31mNotADirectoryError\u001b[0m: [Errno 20] Not a directory: '/content/pulse/data/aggregated/transaction/country/india/state/mizoram/2022/1.json/'"
          ]
        }
      ]
    },
    {
      "cell_type": "code",
      "source": [],
      "metadata": {
        "id": "aOU2Jim6wxrR"
      },
      "execution_count": null,
      "outputs": []
    }
  ]
}